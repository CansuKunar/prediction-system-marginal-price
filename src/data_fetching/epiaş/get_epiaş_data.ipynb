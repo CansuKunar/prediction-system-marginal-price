{
 "cells": [
  {
   "cell_type": "code",
   "id": "initial_id",
   "metadata": {
    "collapsed": true,
    "ExecuteTime": {
     "end_time": "2024-10-23T11:11:14.031540Z",
     "start_time": "2024-10-23T11:11:14.021587Z"
    }
   },
   "source": [
    "from eptr2 import EPTR2\n",
    "from dotenv import load_dotenv\n",
    "import os"
   ],
   "outputs": [],
   "execution_count": 47
  },
  {
   "metadata": {
    "ExecuteTime": {
     "end_time": "2024-10-23T11:11:17.281124Z",
     "start_time": "2024-10-23T11:11:17.256749Z"
    }
   },
   "cell_type": "code",
   "source": "load_dotenv(r'C:\\Users\\Salih\\Documents\\GitHub\\prediction-system-marginal-price\\.env')",
   "id": "968bf10699e32228",
   "outputs": [
    {
     "data": {
      "text/plain": [
       "True"
      ]
     },
     "execution_count": 48,
     "metadata": {},
     "output_type": "execute_result"
    }
   ],
   "execution_count": 48
  },
  {
   "metadata": {
    "ExecuteTime": {
     "end_time": "2024-10-23T11:11:51.908949Z",
     "start_time": "2024-10-23T11:11:51.893392Z"
    }
   },
   "cell_type": "code",
   "source": [
    "cred_d = {\n",
    "    \"username\":os.getenv('EPIAS_USERNAME'),\n",
    "    \"password\":  os.getenv('EPIAS_PASSWORD'),\n",
    "    \"is_test\": False, ## (optional) Default: False. Set only to True for transparency test servers.\n",
    "}"
   ],
   "id": "19055d13c4d0b801",
   "outputs": [],
   "execution_count": 49
  },
  {
   "metadata": {
    "ExecuteTime": {
     "end_time": "2024-10-23T11:12:01.657898Z",
     "start_time": "2024-10-23T11:12:01.048549Z"
    }
   },
   "cell_type": "code",
   "source": [
    "eptr = EPTR2(\n",
    "    username=cred_d[\"username\"], password=cred_d[\"password\"], is_test=cred_d[\"is_test\"]\n",
    ")\n",
    "res = eptr.call(\"intl-capacity-demand-direction-list\", start_date=\"2024-07-29\", end_date=\"2024-07-29\")"
   ],
   "id": "9687ca38e41286bf",
   "outputs": [],
   "execution_count": 51
  },
  {
   "metadata": {
    "ExecuteTime": {
     "end_time": "2024-10-23T11:12:02.850670Z",
     "start_time": "2024-10-23T11:12:02.840152Z"
    }
   },
   "cell_type": "code",
   "source": "res",
   "id": "b3d1671135b82f30",
   "outputs": [
    {
     "data": {
      "text/plain": [
       "['TRGR', 'TRBG', 'GRTR', 'BGTR']"
      ]
     },
     "execution_count": 52,
     "metadata": {},
     "output_type": "execute_result"
    }
   ],
   "execution_count": 52
  },
  {
   "metadata": {},
   "cell_type": "code",
   "outputs": [],
   "execution_count": null,
   "source": "#göp = mcp, gip = wap , sistem marfinal = smp , sistem yönü = smp-dir , yal = bpm-up, yat bpm-down",
   "id": "ff6baf4125065da7"
  },
  {
   "metadata": {
    "ExecuteTime": {
     "end_time": "2024-10-23T07:50:29.366102Z",
     "start_time": "2024-10-23T07:50:29.360783Z"
    }
   },
   "cell_type": "code",
   "source": [
    "available_calls = eptr.get_available_calls()\n",
    "print(available_calls)"
   ],
   "id": "2669d940addbd3c3",
   "outputs": [
    {
     "name": "stdout",
     "output_type": "stream",
     "text": [
      "['dam-volume', 'pi-offer', 'pi-bid', 'supply-demand', 'dam-bid', 'dam-offer', 'dam-block-bid', 'dam-block-offer', 'dam-flexible-bid', 'dam-flexible-offer', 'dam-flexible-matching', 'dam-clearing', 'dam-clearing-org-list', 'dam-diff', 'wap', 'idm-qty', 'idm-mm-bid', 'idm-mm-offer', 'idm-mm-matching', 'idm-volume', 'idm-log', 'idm-ob-qty', 'smp', 'smp-dir', 'bpm-up', 'bpm-down', 'bi-long', 'bi-short', 'bi-euas', 'imb-qty', 'imb-vol', 'imb-qty-g', 'imb-org-list', 'mcp', 'interim-mcp', 'interim-mcp-status', 'mcp-smp-imb', 'bpm-orders-w-avg', 'bpm-orders', 'kgup', 'kudup', 'eak', 'rt-gen', 'uevm', 'pp-list', 'uevm-pp-list', 'gen-org', 'region-list', 'mms-message-type-list', 'mms-region-list', 'gen-uevcb', 'lic-pp-list', 'long-term-demand-forecast', 'consumer-breakdown', 'consumption-breakdown', 'distribution-region-list', 'load-plan', 'rt-cons', 'uecm', 'st-uecm', 'su-uecm', 'anc-pf-qty', 'anc-pfk', 'anc-sf-qty', 'anc-sfk', 'wind-forecast', 'ren-pp-list', 'ren-rt-gen', 'ren-uevm', 'ren-ul-gen', 'ren-ul-cost', 'ren-lic-cost', 'ren-income', 'ren-total-cost', 'ren-capacity', 'ren-unit-cost', 'ren-participant-list', 'zero-balance', 'iskk', 'congestion-cost', 'eic-x-org-list', 'eic-w-org-list', 'eic-w-uevcb-list', 'international-line-events', 'tcat-pre-year-forecast', 'tcat-pre-month-forecast', 'line-capacities', 'capacity-demand', 'nominal-capacity', 'intl-direction-list', 'intl-capacity-demand-direction-list', 'mms', 'mms-pp-list', 'mms-uevcb-list', 'district-list', 'profile-group-list', 'province-list', 'date-init', 'market-participants', 'market-participants-organization-list', 'participant-count-based-upon-license-type', 'dams-active-fullness', 'dams-daily-level', 'dams-active-volume', 'dams-daily-volume', 'basin-list', 'dam-list', 'dams-level-minmax', 'dams-volume-minmax', 'dams-info', 'dams-water-energy-provision', 'idm-summary', 'electricity-market-quantity', 'idm-contract-list', 'idm-order-history', 'ra-distribution-list', 'ra-organization-list', 'ra-spg-list', 'ra-vspg-list', 'ra-meters', 'ra-meter-volumes-period', 'ra-meter-volumes-version', 'ra-sum', 'ng-participants', 'ng-participant-list', 'ng-balancing-notifications', 'ng-balancing-price', 'ng-bast', 'ng-blue-code-ops', 'ng-daily-match-qty', 'ng-drp', 'ng-daily-trade-volume', 'ng-code-four-ops', 'ng-gddk', 'ng-green-code-ops', 'ng-grp-match-qty', 'ng-grp-trade-volume', 'ng-imbalance-amount']\n"
     ]
    }
   ],
   "execution_count": 6
  },
  {
   "metadata": {},
   "cell_type": "code",
   "outputs": [],
   "execution_count": null,
   "source": "",
   "id": "a81504c9ecef5ee4"
  }
 ],
 "metadata": {
  "kernelspec": {
   "display_name": "Python 3",
   "language": "python",
   "name": "python3"
  },
  "language_info": {
   "codemirror_mode": {
    "name": "ipython",
    "version": 2
   },
   "file_extension": ".py",
   "mimetype": "text/x-python",
   "name": "python",
   "nbconvert_exporter": "python",
   "pygments_lexer": "ipython2",
   "version": "2.7.6"
  }
 },
 "nbformat": 4,
 "nbformat_minor": 5
}
