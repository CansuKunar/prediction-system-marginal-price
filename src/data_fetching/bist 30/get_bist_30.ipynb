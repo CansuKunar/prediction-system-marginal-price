{
 "cells": [
  {
   "metadata": {
    "ExecuteTime": {
     "end_time": "2024-10-23T07:20:54.013862Z",
     "start_time": "2024-10-23T07:20:52.756208Z"
    }
   },
   "cell_type": "code",
   "source": [
    "import requests\n",
    "import pandas as pd"
   ],
   "id": "c68e19849e31b64a",
   "outputs": [],
   "execution_count": 3
  },
  {
   "metadata": {
    "ExecuteTime": {
     "end_time": "2024-10-23T11:27:57.176073Z",
     "start_time": "2024-10-23T11:27:56.902478Z"
    }
   },
   "cell_type": "code",
   "source": [
    "import yfinance as yf\n",
    "import pytz\n",
    "import pandas as pd\n",
    "\n",
    "def get_bist30_data(start_date, end_date):\n",
    "  \"\"\"\n",
    "  BIST100 verilerini Yahoo Finance API'si kullanarak çeker.\n",
    "  Belirtilen tarih aralığında saatlik veri döner.\n",
    "  \"\"\"\n",
    "  # BIST300 sembolü\n",
    "  symbol = 'XU030.IS'  # BIST100 için Yahoo Finance sembolü\n",
    "\n",
    "  # Veri çekme\n",
    "  data = yf.download(symbol, start=start_date, end=end_date, interval='1h')\n",
    "\n",
    "  # Zaman dilimini Istanbul'a çevir\n",
    "  istanbul_tz = pytz.timezone('Europe/Istanbul')\n",
    "  data.index = data.index.tz_convert(istanbul_tz)\n",
    "\n",
    "  # Zaman damgalarını yukarı yuvarla\n",
    "  data.index = data.index.ceil('h')\n",
    "\n",
    "  return data\n",
    "\n",
    "\n",
    "def main():\n",
    "  # Tarih aralığı (son 1 yıl)\n",
    "  start_date = \"2023-10-01\"\n",
    "  end_date = \"2024-10-01\"\n",
    "\n",
    "  print(\"Fetching BIST30 data...\")\n",
    "  bist100_data = get_bist30_data(start_date, end_date)\n",
    "\n",
    "  if not bist100_data.empty:\n",
    "      print(f\"Retrieved {len(bist100_data)} hourly records for BIST30.\")\n",
    "      # Verileri data/raw klasörüne kaydet\n",
    "      bist100_data.to_csv(\"bist30_hourly_data.csv\", index=True)\n",
    "  else:\n",
    "      print(\"BIST30 data couldn't be retrieved.\")\n",
    "\n",
    "main()"
   ],
   "id": "44cd48ebc5911340",
   "outputs": [
    {
     "name": "stderr",
     "output_type": "stream",
     "text": [
      "[*********************100%***********************]  1 of 1 completed"
     ]
    },
    {
     "name": "stdout",
     "output_type": "stream",
     "text": [
      "Fetching BIST30 data...\n",
      "Retrieved 2134 hourly records for BIST30.\n"
     ]
    },
    {
     "name": "stderr",
     "output_type": "stream",
     "text": [
      "\n"
     ]
    }
   ],
   "execution_count": 11
  },
  {
   "metadata": {
    "ExecuteTime": {
     "end_time": "2024-10-23T11:38:37.584001Z",
     "start_time": "2024-10-23T11:38:37.564202Z"
    }
   },
   "cell_type": "code",
   "source": "import os",
   "id": "ca2ca8072d922c21",
   "outputs": [],
   "execution_count": 13
  },
  {
   "metadata": {
    "ExecuteTime": {
     "end_time": "2024-10-23T11:40:50.415918Z",
     "start_time": "2024-10-23T11:40:50.409085Z"
    }
   },
   "cell_type": "code",
   "source": "os.getcwd().",
   "id": "4ab0fc5727361fa",
   "outputs": [
    {
     "data": {
      "text/plain": [
       "':'"
      ]
     },
     "execution_count": 23,
     "metadata": {},
     "output_type": "execute_result"
    }
   ],
   "execution_count": 23
  },
  {
   "metadata": {
    "ExecuteTime": {
     "end_time": "2024-10-23T11:39:42.309677Z",
     "start_time": "2024-10-23T11:39:42.303296Z"
    }
   },
   "cell_type": "code",
   "source": "os.path.dirname('bist 30')",
   "id": "e386b64930782daf",
   "outputs": [
    {
     "data": {
      "text/plain": [
       "''"
      ]
     },
     "execution_count": 18,
     "metadata": {},
     "output_type": "execute_result"
    }
   ],
   "execution_count": 18
  },
  {
   "metadata": {},
   "cell_type": "code",
   "outputs": [],
   "execution_count": null,
   "source": "",
   "id": "79bce4f8c6ec5587"
  }
 ],
 "metadata": {
  "kernelspec": {
   "display_name": "Python 3",
   "language": "python",
   "name": "python3"
  },
  "language_info": {
   "codemirror_mode": {
    "name": "ipython",
    "version": 2
   },
   "file_extension": ".py",
   "mimetype": "text/x-python",
   "name": "python",
   "nbconvert_exporter": "python",
   "pygments_lexer": "ipython2",
   "version": "2.7.6"
  }
 },
 "nbformat": 4,
 "nbformat_minor": 5
}
