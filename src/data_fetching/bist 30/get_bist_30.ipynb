{
 "cells": [
  {
   "metadata": {
    "ExecuteTime": {
     "end_time": "2024-10-23T12:51:19.168445Z",
     "start_time": "2024-10-23T12:51:19.159098Z"
    }
   },
   "cell_type": "code",
   "source": [
    "import requests\n",
    "import pandas as pd"
   ],
   "id": "c68e19849e31b64a",
   "outputs": [],
   "execution_count": 2
  },
  {
   "metadata": {
    "ExecuteTime": {
     "end_time": "2024-10-23T12:51:19.366129Z",
     "start_time": "2024-10-23T12:51:19.200180Z"
    }
   },
   "cell_type": "code",
   "source": [
    "import yfinance as yf\n",
    "import pytz\n",
    "import pandas as pd\n",
    "\n",
    "def get_bist30_data(start_date, end_date):\n",
    "  \"\"\"\n",
    "  BIST100 verilerini Yahoo Finance API'si kullanarak çeker.\n",
    "  Belirtilen tarih aralığında saatlik veri döner.\n",
    "  \"\"\"\n",
    "  # BIST300 sembolü\n",
    "  symbol = 'XU030.IS'  # BIST100 için Yahoo Finance sembolü\n",
    "\n",
    "  # Veri çekme\n",
    "  data = yf.download(symbol, start=start_date, end=end_date, interval='1h')\n",
    "\n",
    "  # Zaman dilimini Istanbul'a çevir\n",
    "  istanbul_tz = pytz.timezone('Europe/Istanbul')\n",
    "  data.index = data.index.tz_convert(istanbul_tz)\n",
    "\n",
    "  # Zaman damgalarını yukarı yuvarla\n",
    "  data.index = data.index.ceil('h')\n",
    "\n",
    "  return data\n",
    "\n",
    "\n",
    "def main():\n",
    "  # Tarih aralığı (son 1 yıl)\n",
    "  start_date = \"2023-10-01\"\n",
    "  end_date = \"2024-10-01\"\n",
    "\n",
    "  print(\"Fetching BIST30 data...\")\n",
    "  bist100_data = get_bist30_data(start_date, end_date)\n",
    "  print(bist100_data)\n",
    "  if not bist100_data.empty:\n",
    "      print(f\"Retrieved {len(bist100_data)} hourly records for BIST30.\")\n",
    "      # Verileri data/raw klasörüne kaydet\n",
    "      bist100_data.to_csv(\"bist30_hourly_data.csv\", index=True)\n",
    "  else:\n",
    "      print(\"BIST30 data couldn't be retrieved.\")\n",
    "\n"
   ],
   "id": "44cd48ebc5911340",
   "outputs": [
    {
     "name": "stderr",
     "output_type": "stream",
     "text": [
      "[*********************100%***********************]  1 of 1 completed"
     ]
    },
    {
     "name": "stdout",
     "output_type": "stream",
     "text": [
      "Fetching BIST30 data...\n",
      "Price                         Adj Close         Close          High  \\\n",
      "Ticker                         XU030.IS      XU030.IS      XU030.IS   \n",
      "Datetime                                                              \n",
      "2023-10-02 10:00:00+03:00   8823.700195   8823.700195   8865.969727   \n",
      "2023-10-02 11:00:00+03:00   8871.820312   8871.820312   8871.820312   \n",
      "2023-10-02 12:00:00+03:00   8895.049805   8895.049805   8903.099609   \n",
      "2023-10-02 13:00:00+03:00   8889.849609   8889.849609   8902.209961   \n",
      "2023-10-02 14:00:00+03:00   8928.540039   8928.540039   8929.379883   \n",
      "...                                 ...           ...           ...   \n",
      "2024-09-30 14:00:00+03:00  10777.120117  10777.120117  10800.629883   \n",
      "2024-09-30 15:00:00+03:00  10769.459961  10769.459961  10798.610352   \n",
      "2024-09-30 16:00:00+03:00  10792.849609  10792.849609  10814.679688   \n",
      "2024-09-30 17:00:00+03:00  10771.019531  10771.019531  10796.639648   \n",
      "2024-09-30 18:00:00+03:00  10772.269531  10772.269531  10807.650391   \n",
      "\n",
      "Price                               Low          Open   Volume  \n",
      "Ticker                         XU030.IS      XU030.IS XU030.IS  \n",
      "Datetime                                                        \n",
      "2023-10-02 10:00:00+03:00   8797.400391   8797.400391        0  \n",
      "2023-10-02 11:00:00+03:00   8797.059570   8823.379883        0  \n",
      "2023-10-02 12:00:00+03:00   8867.690430   8869.759766        0  \n",
      "2023-10-02 13:00:00+03:00   8868.910156   8892.389648        0  \n",
      "2023-10-02 14:00:00+03:00   8887.480469   8889.750000        0  \n",
      "...                                 ...           ...      ...  \n",
      "2024-09-30 14:00:00+03:00  10766.589844  10784.299805        0  \n",
      "2024-09-30 15:00:00+03:00  10755.219727  10775.000000        0  \n",
      "2024-09-30 16:00:00+03:00  10757.469727  10769.690430        0  \n",
      "2024-09-30 17:00:00+03:00  10748.780273  10792.849609        0  \n",
      "2024-09-30 18:00:00+03:00  10767.139648  10770.019531        0  \n",
      "\n",
      "[2134 rows x 6 columns]\n",
      "Retrieved 2134 hourly records for BIST30.\n"
     ]
    },
    {
     "name": "stderr",
     "output_type": "stream",
     "text": [
      "\n"
     ]
    }
   ],
   "execution_count": 3
  },
  {
   "metadata": {
    "ExecuteTime": {
     "end_time": "2024-10-23T12:51:19.381963Z",
     "start_time": "2024-10-23T12:51:19.377746Z"
    }
   },
   "cell_type": "code",
   "source": "main()",
   "id": "eb1f2cd16db67657",
   "outputs": [],
   "execution_count": 4
  },
  {
   "metadata": {
    "ExecuteTime": {
     "end_time": "2024-10-23T12:51:19.401366Z",
     "start_time": "2024-10-23T12:51:19.393776Z"
    }
   },
   "cell_type": "code",
   "source": "os.getcwd().",
   "id": "cf35ac7e73695616",
   "outputs": [
    {
     "ename": "SyntaxError",
     "evalue": "invalid syntax (499519161.py, line 1)",
     "output_type": "error",
     "traceback": [
      "\u001B[1;36m  Cell \u001B[1;32mIn[5], line 1\u001B[1;36m\u001B[0m\n\u001B[1;33m    os.getcwd().\u001B[0m\n\u001B[1;37m                ^\u001B[0m\n\u001B[1;31mSyntaxError\u001B[0m\u001B[1;31m:\u001B[0m invalid syntax\n"
     ]
    }
   ],
   "execution_count": 5
  },
  {
   "metadata": {},
   "cell_type": "code",
   "source": "os.path.dirname('bist 30')",
   "id": "f91c4e97833720ee",
   "outputs": [],
   "execution_count": null
  },
  {
   "metadata": {},
   "cell_type": "code",
   "source": "",
   "id": "79bce4f8c6ec5587",
   "outputs": [],
   "execution_count": null
  }
 ],
 "metadata": {
  "kernelspec": {
   "display_name": "Python 3",
   "language": "python",
   "name": "python3"
  },
  "language_info": {
   "codemirror_mode": {
    "name": "ipython",
    "version": 2
   },
   "file_extension": ".py",
   "mimetype": "text/x-python",
   "name": "python",
   "nbconvert_exporter": "python",
   "pygments_lexer": "ipython2",
   "version": "2.7.6"
  }
 },
 "nbformat": 4,
 "nbformat_minor": 5
}
